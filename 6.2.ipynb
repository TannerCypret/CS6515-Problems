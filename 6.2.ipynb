{
 "cells": [
  {
   "cell_type": "markdown",
   "id": "9765af86-401d-4dc4-a601-18bdb65cec27",
   "metadata": {},
   "source": [
    "<h1><u>[DPV] 6.2</u></h1>"
   ]
  },
  {
   "cell_type": "markdown",
   "id": "c300c638-fcf7-45e4-b407-3946cf286706",
   "metadata": {},
   "source": [
    "- if (jth hotel is stop)\n",
    "- if ith is the previous optional hotel\n",
    "- C(j) = min[C(i) + (200 - (a<sub>j</sub>-a<sub>i</sub>))<sup>2</sup>]"
   ]
  },
  {
   "cell_type": "code",
   "execution_count": null,
   "id": "9689fd9a-0e62-4287-8edb-842003c08ae8",
   "metadata": {},
   "outputs": [],
   "source": []
  },
  {
   "cell_type": "markdown",
   "id": "f57cde99-f64a-4bee-96d0-1a09b0e49306",
   "metadata": {},
   "source": [
    "<h3>References</h3>\n",
    "- https://youtu.be/9QpDfwoR4gw<br>\n",
    "- https://youtu.be/RMt5IGvHJIY<br>\n",
    "- https://stackoverflow.com/questions/4950956/how-would-you-look-at-developing-an-algorithm-for-this-hotel-problem"
   ]
  },
  {
   "cell_type": "code",
   "execution_count": null,
   "id": "5adb4ff1-b59d-4df3-887a-4b7859d64b74",
   "metadata": {},
   "outputs": [],
   "source": []
  }
 ],
 "metadata": {
  "kernelspec": {
   "display_name": "Python 3 (ipykernel)",
   "language": "python",
   "name": "python3"
  },
  "language_info": {
   "codemirror_mode": {
    "name": "ipython",
    "version": 3
   },
   "file_extension": ".py",
   "mimetype": "text/x-python",
   "name": "python",
   "nbconvert_exporter": "python",
   "pygments_lexer": "ipython3",
   "version": "3.11.4"
  }
 },
 "nbformat": 4,
 "nbformat_minor": 5
}
