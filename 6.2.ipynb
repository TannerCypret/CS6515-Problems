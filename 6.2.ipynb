{
 "cells": [
  {
   "cell_type": "markdown",
   "id": "9765af86-401d-4dc4-a601-18bdb65cec27",
   "metadata": {},
   "source": [
    "<h1><u>[DPV] 6.2</u></h1>"
   ]
  },
  {
   "cell_type": "markdown",
   "id": "c300c638-fcf7-45e4-b407-3946cf286706",
   "metadata": {},
   "source": [
    "- if (jth hotel is stop)\n",
    "- if ith is the previous optional hotel\n",
    "- C(j) = min[C(i) + (200 - (a<sub>j</sub>-a<sub>i</sub>))<sup>2</sup>]"
   ]
  },
  {
   "cell_type": "code",
   "execution_count": 1,
   "id": "9689fd9a-0e62-4287-8edb-842003c08ae8",
   "metadata": {},
   "outputs": [
    {
     "name": "stdout",
     "output_type": "stream",
     "text": [
      "****Example one****\n",
      "Hotel: 0, penalty: 0, path: \n",
      "\n",
      "\n",
      "Hotel: 200, penalty: 0, path: \n",
      "1 \n",
      "\n",
      "\n",
      "Hotel: 400, penalty: 0, path: \n",
      "1 \n",
      "2 \n",
      "\n",
      "\n",
      "Hotel: 600, penalty: 0, path: \n",
      "1 \n",
      "2 \n",
      "3 \n",
      "\n",
      "\n",
      "Hotel: 601, penalty: 1, path: \n",
      "1 \n",
      "2 \n",
      "4 \n",
      "\n",
      "\n",
      "****Example Two****\n",
      "Hotel: 0, penalty: 0, path: \n",
      "\n",
      "\n",
      "Hotel: 100, penalty: 10000, path: \n",
      "1 \n",
      "\n",
      "\n",
      "Hotel: 250, penalty: 2500, path: \n",
      "2 \n",
      "\n",
      "\n",
      "Hotel: 600, penalty: 25000, path: \n",
      "2 \n",
      "3 \n",
      "\n",
      "\n",
      "Hotel: 700, penalty: 35000, path: \n",
      "2 \n",
      "3 \n",
      "4 \n",
      "\n",
      "\n",
      "Hotel: 900, penalty: 35000, path: \n",
      "2 \n",
      "3 \n",
      "5 \n",
      "\n",
      "\n"
     ]
    }
   ],
   "source": [
    "def printPath(path, i):\n",
    "    if (i == 0):\n",
    "        return\n",
    "    printPath(path, path[i]);\n",
    "    print(str(i) + \" \")\n",
    "\n",
    "\n",
    "def Problem6_2(hotelList,penalties,path):\n",
    "\n",
    "    i = 2\n",
    "    j = 0\n",
    "    while i <=  len(hotelList) - 1:\n",
    "        while j < i:\n",
    "            tempPen = (penalties[j] + pow(200 - (hotelList[i] - hotelList[j]), 2))\n",
    "            if(penalties[i] == -1 or tempPen < penalties[i]):\n",
    "                penalties[i] = tempPen\n",
    "                path[i] = j\n",
    "            j+=1\n",
    "        i+=1\n",
    "        j=0\n",
    "\n",
    "    i = 0\n",
    "    while i <=  len(hotelList) - 1:\n",
    "        print(\"Hotel: \" + str(hotelList[i]) + \", penalty: \" + str(penalties[i]) + \", path: \")\n",
    "        printPath(path, i);\n",
    "        print(\"\\n\")\n",
    "        i+=1\n",
    "\n",
    "if __name__ == '__main__':\n",
    "\n",
    "    print(\"****Example one****\")\n",
    "    hotelList = [0, 200, 400, 600, 601]\n",
    "    penalties = [0, pow(200 - hotelList[1], 2), -1, -1, -1]\n",
    "    path = [0, 0, -1, -1, -1]\n",
    "    Problem6_2(hotelList,penalties,path)\n",
    "\n",
    "    print(\"****Example Two****\")\n",
    "    hotelList = [0, 100, 250, 600, 700,900]\n",
    "    penalties = [0, pow(200 - hotelList[1], 2), -1, -1, -1,-1]\n",
    "    path = [0, 0, -1, -1, -1,-1]\n",
    "    Problem6_2(hotelList,penalties,path)"
   ]
  },
  {
   "cell_type": "markdown",
   "id": "f57cde99-f64a-4bee-96d0-1a09b0e49306",
   "metadata": {},
   "source": [
    "<h3>References</h3>\n",
    "- https://youtu.be/9QpDfwoR4gw<br>\n",
    "- https://youtu.be/RMt5IGvHJIY<br>\n",
    "- https://stackoverflow.com/questions/4950956/how-would-you-look-at-developing-an-algorithm-for-this-hotel-problem"
   ]
  },
  {
   "cell_type": "code",
   "execution_count": null,
   "id": "5adb4ff1-b59d-4df3-887a-4b7859d64b74",
   "metadata": {},
   "outputs": [],
   "source": []
  }
 ],
 "metadata": {
  "kernelspec": {
   "display_name": "Python 3 (ipykernel)",
   "language": "python",
   "name": "python3"
  },
  "language_info": {
   "codemirror_mode": {
    "name": "ipython",
    "version": 3
   },
   "file_extension": ".py",
   "mimetype": "text/x-python",
   "name": "python",
   "nbconvert_exporter": "python",
   "pygments_lexer": "ipython3",
   "version": "3.11.4"
  }
 },
 "nbformat": 4,
 "nbformat_minor": 5
}
