{
 "cells": [
  {
   "cell_type": "markdown",
   "id": "cbc241f7-e0c6-4eda-9c8e-0270db7fafc3",
   "metadata": {},
   "source": [
    "<h1><u>[DPV] 6.1</u></h1>"
   ]
  },
  {
   "cell_type": "markdown",
   "id": "317f8d8a-c793-4b15-8b3a-89111b137f10",
   "metadata": {},
   "source": [
    "<u><b>Input:</b></u> a<sub>1</sub>,...,a<sub>n</sub><br>\n",
    "<u><b>Goal:</b></u> Substring with max sum<br>\n",
    "<u><b>Subproblem:</b></u> For 0≤i≤n <br>\n",
    "let S(i) = max sum from substring of a<sub>1</sub>,...,a<sub>i</sub> (which includes a<sub>i</sub>) <br>\n",
    "S(i) = a<sub>i</sub> + max{0,S(i-1)} <br>\n",
    "<u><b>Output:</b></u> Max S(i)  O(n) Time\n"
   ]
  },
  {
   "cell_type": "markdown",
   "id": "170ee846-a240-49e9-a556-4cc1ff223daa",
   "metadata": {},
   "source": [
    "<h1>Python</h1>"
   ]
  },
  {
   "cell_type": "code",
   "execution_count": 16,
   "id": "bf162880-0782-4d44-82bd-840b229517db",
   "metadata": {},
   "outputs": [
    {
     "name": "stdout",
     "output_type": "stream",
     "text": [
      "Input list: [5, 15, -30, 10, -5, 40, 10]\n",
      "Best sum = 55\n",
      "Best sequence = [10, -5, 40, 10]\n",
      "---------------------------------------\n",
      "Input list: [1, 2, 3, 4, 5, 6, 7, 8, 9, 10]\n",
      "Best sum = 55\n",
      "Best sequence = [1, 2, 3, 4, 5, 6, 7, 8, 9, 10]\n",
      "---------------------------------------\n",
      "Input list: [-1, 2, -3, 4, -5, 6, 7, -8, 9, 10]\n",
      "Best sum = 24\n",
      "Best sequence = [6, 7, -8, 9, 10]\n",
      "---------------------------------------\n"
     ]
    }
   ],
   "source": [
    "if __name__ == '__main__':\n",
    "    list = [5,15,-30,10,-5,40,10]\n",
    "    Problem6_1(list)\n",
    "    list = [1,2,3,4,5,6,7,8,9,10]\n",
    "    Problem6_1(list)\n",
    "    list = [-1,2,-3,4,-5,6,7,-8,9,10]\n",
    "    Problem6_1(list)\n"
   ]
  },
  {
   "cell_type": "code",
   "execution_count": 17,
   "id": "8f6cc274-1a99-40bd-b183-ff149d775916",
   "metadata": {},
   "outputs": [],
   "source": [
    "def Problem6_1(S):\n",
    "    n = len(S)\n",
    "    i = 1\n",
    "    opt = [0] * n\n",
    "    opt[0] = S[0]\n",
    "\n",
    "    while i < n:\n",
    "        opt[i] = max(opt[i-1] + S[i], S[i])\n",
    "        i+=1;\n",
    "\n",
    "    bestSum = max(opt)\n",
    "    bestInd = opt.index(bestSum)\n",
    "\n",
    "    tempSum = 0\n",
    "    currInd = bestInd\n",
    "    bestSeq = []\n",
    "    while tempSum != bestSum:\n",
    "        tempSum += S[currInd]\n",
    "        bestSeq.append(S[currInd])\n",
    "        currInd-=1\n",
    "\n",
    "    bestSeq.reverse()\n",
    "\n",
    "    print (\"Input list: \" + str(S))\n",
    "    print(\"Best sum = \" + str(bestSum))\n",
    "    print(\"Best sequence = \" + str(bestSeq))\n",
    "    print(\"---------------------------------------\")"
   ]
  },
  {
   "cell_type": "code",
   "execution_count": null,
   "id": "89c8d5f9-6391-49fe-98a0-4adfde9418a1",
   "metadata": {},
   "outputs": [],
   "source": []
  }
 ],
 "metadata": {
  "kernelspec": {
   "display_name": "Python 3 (ipykernel)",
   "language": "python",
   "name": "python3"
  },
  "language_info": {
   "codemirror_mode": {
    "name": "ipython",
    "version": 3
   },
   "file_extension": ".py",
   "mimetype": "text/x-python",
   "name": "python",
   "nbconvert_exporter": "python",
   "pygments_lexer": "ipython3",
   "version": "3.11.4"
  }
 },
 "nbformat": 4,
 "nbformat_minor": 5
}
