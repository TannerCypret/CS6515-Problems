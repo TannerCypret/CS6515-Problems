{
 "cells": [
  {
   "cell_type": "code",
   "execution_count": 2,
   "id": "b2595f3f-7a74-45e5-b107-adef5f9401b6",
   "metadata": {},
   "outputs": [
    {
     "name": "stdout",
     "output_type": "stream",
     "text": [
      "20\n",
      "-10\n",
      "10\n",
      "5\n",
      "45\n",
      "55\n",
      "best sum = 55\n",
      "ID = 3\n"
     ]
    }
   ],
   "source": [
    "if __name__ == '__main__':\n",
    "    list = [5,15,-30,10,-5,40,10]\n",
    "    Problem6_1(list)\n",
    "    list = [1,2,3,4,5,6,7,8,9,10]\n",
    "    Problem6_1(list)\n",
    "    list = [-1,2,-3,4,-5,6,7,-8,9,10]\n",
    "    Problem6_1(list)\n"
   ]
  },
  {
   "cell_type": "code",
   "execution_count": 1,
   "id": "8f6cc274-1a99-40bd-b183-ff149d775916",
   "metadata": {},
   "outputs": [],
   "source": [
    "def Problem6_1(S):\n",
    "    n = len(S)\n",
    "    i = 1\n",
    "    opt = [0] * n\n",
    "    opt[0] = S[0]\n",
    "\n",
    "    while i < n:\n",
    "        opt[i] = max(opt[i-1] + S[i], S[i])\n",
    "        i+=1;\n",
    "\n",
    "    bestSum = max(opt)\n",
    "    bestInd = opt.index(bestSum)\n",
    "\n",
    "    tempSum = 0\n",
    "    currInd = bestInd\n",
    "    bestSeq = []\n",
    "    while tempSum != bestSum:\n",
    "        tempSum += S[currInd]\n",
    "        bestSeq.append(S[currInd])\n",
    "        currInd-=1\n",
    "\n",
    "    bestSeq.reverse()\n",
    "\n",
    "    print (\"Input list: \" + str(S))\n",
    "    print(\"Best sum = \" + str(bestSum))\n",
    "    print(\"Best sequence = \" + str(bestSeq))\n",
    "    print(\"---------------------------------------\")"
   ]
  }
 ],
 "metadata": {
  "kernelspec": {
   "display_name": "Python 3 (ipykernel)",
   "language": "python",
   "name": "python3"
  },
  "language_info": {
   "codemirror_mode": {
    "name": "ipython",
    "version": 3
   },
   "file_extension": ".py",
   "mimetype": "text/x-python",
   "name": "python",
   "nbconvert_exporter": "python",
   "pygments_lexer": "ipython3",
   "version": "3.11.4"
  }
 },
 "nbformat": 4,
 "nbformat_minor": 5
}
