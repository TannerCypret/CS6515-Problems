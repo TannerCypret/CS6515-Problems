{
 "cells": [
  {
   "cell_type": "markdown",
   "id": "e2b81e3d-7132-4314-9614-827c29dbddc9",
   "metadata": {},
   "source": [
    "<h1><u>[DPV] 6.3</u></h1>"
   ]
  },
  {
   "cell_type": "code",
   "execution_count": null,
   "id": "63dfbb6f-8ba6-4755-9f0d-4481a3a9f26a",
   "metadata": {},
   "outputs": [],
   "source": [
    "\n",
    "def Problem6_3(mLocations, profits, kSeparation):\n",
    "\n",
    "    totalProfit = [0] * len(profits)\n",
    "    for i in range(len(mLocations)):\n",
    "        totalProfit[i] = profits[i]\n",
    "        for j in range(i - 1):\n",
    "            if (mLocations[i] - mLocations[j]) >= kSeparation:\n",
    "                totalProfit[i] = max(totalProfit[i], profits[i] + totalProfit[j])\n",
    "\n",
    "        totalProfit[i] = max(totalProfit[i], totalProfit[i-1])\n",
    "\n",
    "    return totalProfit[len(mLocations)-1]\n",
    "\n",
    "if __name__ == \"__main__\":\n",
    "    mLocations = [ 0, 5, 6, 11, 14, 20, 22, 28 ];\n",
    "    profits = [ 30, 10, 40, 1, 15, 5, 23, 17 ];\n",
    "    kSeparation = 5;\n",
    "    print('m=%s p=%s k=%s' % (mLocations, profits, kSeparation))\n",
    "    p_ = Problem6_3(mLocations, profits, kSeparation)\n",
    "    print('Maximum total profit = %d' % p_)\n",
    "\n",
    "    mLocations = [ 1, 10, 16, 21, 22, 35, 38 ]\n",
    "    profits = [ 30, 9, 13, 25, 23, 3, 10 ]\n",
    "    kSeparation = 10\n",
    "    print('m=%s p=%s k=%s' % (mLocations, profits, kSeparation))\n",
    "    p_ = Problem6_3(mLocations, profits, kSeparation)\n",
    "    print('Maximum total profit = %d' % p_)\n",
    "\n",
    "    # Greedy approach (which assumes a restaurant at location i) will fail this case (correct\n",
    "    # answer is 400)\n",
    "    mLocations = [ 10, 20, 25, 30, 40 ];\n",
    "    profits = [ 100, 100, 101, 100, 100 ];\n",
    "    kSeparation = 10;\n",
    "    print('m=%s p=%s k=%s' % (mLocations, profits, kSeparation))\n",
    "    p_ = Problem6_3(mLocations, profits, kSeparation)\n",
    "    print('Maximum total profit = %d' % p_)\n",
    "\n",
    "    # Corner case, the return should be 42 and not 41\n",
    "    mLocations = [ 0, 4, 8 ];\n",
    "    profits = [ 10, 42, 31 ];\n",
    "    kSeparation = 5;\n",
    "    print('m=%s p=%s k=%s' % (mLocations, profits, kSeparation))\n",
    "    p_ = Problem6_3(mLocations, profits, kSeparation)\n",
    "    print('Maximum total profit = %d' % p_)"
   ]
  },
  {
   "cell_type": "code",
   "execution_count": null,
   "id": "7995dad6-8707-4977-aa88-4248eaa99b19",
   "metadata": {},
   "outputs": [],
   "source": [
    "<h3>References</h3>\n",
    "- https://github.com/fyanardi/algorithms-dpv-exercises/blob/master/Chapter6/6.3_yuckdonalds.py\n",
    "- \n"
   ]
  }
 ],
 "metadata": {
  "kernelspec": {
   "display_name": "Python 3 (ipykernel)",
   "language": "python",
   "name": "python3"
  },
  "language_info": {
   "codemirror_mode": {
    "name": "ipython",
    "version": 3
   },
   "file_extension": ".py",
   "mimetype": "text/x-python",
   "name": "python",
   "nbconvert_exporter": "python",
   "pygments_lexer": "ipython3",
   "version": "3.11.4"
  }
 },
 "nbformat": 4,
 "nbformat_minor": 5
}
